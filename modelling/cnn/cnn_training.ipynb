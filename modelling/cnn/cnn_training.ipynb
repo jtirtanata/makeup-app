{
 "cells": [
  {
   "cell_type": "markdown",
   "metadata": {
    "collapsed": false
   },
   "source": [
    "## Skin Color Model\n",
    "### Goal\n",
    "The objective of this notebook is to start training on my images using google net's pretrained model. \n",
    "These pre trained weights can be easily taken from keras' applications library.\n",
    "\n"
   ]
  },
  {
   "cell_type": "code",
   "execution_count": 1,
   "metadata": {
    "collapsed": false
   },
   "outputs": [
    {
     "name": "stderr",
     "output_type": "stream",
     "text": [
      "Using Theano backend.\n",
      "Using gpu device 0: GRID K520 (CNMeM is enabled with initial size: 80.0% of memory, cuDNN 5005)\n"
     ]
    }
   ],
   "source": [
    "from keras.preprocessing import image as image_utils\n",
    "from keras.preprocessing.image import ImageDataGenerator\n",
    "from keras.models import Model\n",
    "import keras\n",
    "import numpy as np\n",
    "import PIL\n",
    "import os\n",
    "from PIL import Image\n",
    "import glob\n",
    "from libs import cnn\n",
    "from libs import img_processing as im_p\n",
    "import cv2\n",
    "import pickle\n",
    "import pandas as pd"
   ]
  },
  {
   "cell_type": "code",
   "execution_count": 2,
   "metadata": {
    "collapsed": true
   },
   "outputs": [],
   "source": [
    "train_img_paths = glob.glob('img/train/*')\n",
    "test_img_paths = glob.glob('img/test/*')"
   ]
  },
  {
   "cell_type": "code",
   "execution_count": 3,
   "metadata": {
    "collapsed": true
   },
   "outputs": [],
   "source": [
    "BATCH_SIZE = 128\n",
    "NB_EPOCH = 20"
   ]
  },
  {
   "cell_type": "code",
   "execution_count": 4,
   "metadata": {
    "collapsed": false
   },
   "outputs": [],
   "source": [
    "imp = im_p.ImageProcessor('static/face.xml')"
   ]
  },
  {
   "cell_type": "markdown",
   "metadata": {},
   "source": [
    "### Image Processing\n",
    "For each image, I use open cv to detect the bounds of the faces. I then take the upper left corner of the photo to get te skin color.\n",
    "#### Train Images"
   ]
  },
  {
   "cell_type": "code",
   "execution_count": 11,
   "metadata": {
    "collapsed": false
   },
   "outputs": [],
   "source": [
    "X_img = []\n",
    "y_col = []\n",
    "for path in train_img_paths:\n",
    "    img = imp.get_image(path)\n",
    "    face = imp.crop_face(img, path, 25)\n",
    "    if face:\n",
    "        color = imp.get_color(img)\n",
    "        img_arr = imp.img_to_arr(face)\n",
    "        X_img.append(img_arr)\n",
    "        y_col.append(color)\n",
    "    else:\n",
    "        print('No face detected in {}'.format(path))"
   ]
  },
  {
   "cell_type": "markdown",
   "metadata": {},
   "source": [
    "#### Test Images"
   ]
  },
  {
   "cell_type": "code",
   "execution_count": 12,
   "metadata": {
    "collapsed": false
   },
   "outputs": [],
   "source": [
    "X_img_test = []\n",
    "y_col_test = []\n",
    "for path in test_img_paths:\n",
    "    img = imp.get_image(path)\n",
    "    face = imp.crop_face(img, path, 25)\n",
    "    if face:\n",
    "        color = imp.get_color(img)\n",
    "        img_arr = imp.img_to_arr(face)\n",
    "        x_img_test.append(img_arr)\n",
    "        y_col_test.append(color)\n",
    "    else:\n",
    "        print('No face detected in {}'.format(path))"
   ]
  },
  {
   "cell_type": "code",
   "execution_count": 16,
   "metadata": {
    "collapsed": true
   },
   "outputs": [],
   "source": [
    "# turn it to numpy arrays\n",
    "X_img = np.array(X_img)\n",
    "y_col = np.array(y_col)\n",
    "X_img_test = np.array(X_img_test)\n",
    "y_col_test = np.array(y_col_test)"
   ]
  },
  {
   "cell_type": "code",
   "execution_count": 5,
   "metadata": {
    "collapsed": true
   },
   "outputs": [],
   "source": [
    "# save this \n",
    "# pickle.dump(X_img, open('states/x_img.pkl', 'wb'))\n",
    "# pickle.dump(y_col, open('states/y_col.pkl', 'wb'))\n",
    "# pickle.dump(X_img_test, open('states/x_img_test.pkl', 'wb'))\n",
    "# pickle.dump(y_col_test, open('states/y_col_test.pkl', 'wb'))\n",
    "\n",
    "# open\n",
    "X_img = pickle.load(open('states/x_img.pkl', 'rb'))\n",
    "y_col = pickle.load(open('states/y_col.pkl', 'rb'))\n",
    "X_img_test = pickle.load(open('states/x_img_test.pkl', 'rb'))\n",
    "y_col_test = pickle.load(open('states/y_col_test.pkl', 'rb'))"
   ]
  },
  {
   "cell_type": "markdown",
   "metadata": {},
   "source": [
    "### Creating a ImageDataGenerator"
   ]
  },
  {
   "cell_type": "code",
   "execution_count": 7,
   "metadata": {
    "collapsed": false
   },
   "outputs": [],
   "source": [
    "# prepare data augmentation configuration\n",
    "datagen = ImageDataGenerator(\n",
    "        shear_range=0.2, rotation_range=10)\n",
    "\n",
    "train_generator = datagen.flow(X_img, y_col)\n",
    "\n",
    "test_generator = datagen.flow(X_img_test, y_col_test)"
   ]
  },
  {
   "cell_type": "code",
   "execution_count": 8,
   "metadata": {
    "collapsed": false
   },
   "outputs": [
    {
     "name": "stdout",
     "output_type": "stream",
     "text": [
      "starting model compile\n",
      "model compile done\n"
     ]
    }
   ],
   "source": [
    "model = cnn.build_model(3)"
   ]
  },
  {
   "cell_type": "code",
   "execution_count": 17,
   "metadata": {
    "collapsed": false
   },
   "outputs": [],
   "source": [
    "class TestModel(keras.callbacks.Callback):\n",
    "    def __init__(self, test_gen):\n",
    "        self.test_gen = test_gen\n",
    "        self.test_scores = []\n",
    "\n",
    "    def on_epoch_end(self, batch, logs={}):\n",
    "        test_score = self.model.evaluate_generator(self.test_gen, 32)\n",
    "        self.test_scores.append(test_score)\n",
    "        print('\\nTest accuracy score: {}'.format(test_score))"
   ]
  },
  {
   "cell_type": "code",
   "execution_count": 46,
   "metadata": {
    "collapsed": false
   },
   "outputs": [
    {
     "name": "stdout",
     "output_type": "stream",
     "text": [
      "Epoch 1/20\n",
      "127/128 [============================>.] - ETA: 0s - loss: 0.1362 - acc: 0.8110"
     ]
    },
    {
     "name": "stderr",
     "output_type": "stream",
     "text": [
      "/home/ubuntu/anaconda3/lib/python3.5/site-packages/keras/engine/training.py:1573: UserWarning: Epoch comprised more than `samples_per_epoch` samples, which might affect learning results. Set `samples_per_epoch` correctly to avoid this warning.\n",
      "  warnings.warn('Epoch comprised more than '\n"
     ]
    },
    {
     "name": "stdout",
     "output_type": "stream",
     "text": [
      "\n",
      "Test accuracy score: [0.145894855260849, 0.9375]\n",
      "159/128 [=====================================] - 6s - loss: 0.1355 - acc: 0.8365\n",
      "Epoch 2/20\n",
      " 96/128 [=====================>........] - ETA: 0s - loss: 0.1515 - acc: 0.7396\n",
      "Test accuracy score: [0.16746312379837036, 0.8125]\n",
      "128/128 [==============================] - 4s - loss: 0.1477 - acc: 0.7500     \n",
      "Epoch 3/20\n",
      " 96/128 [=====================>........] - ETA: 0s - loss: 0.1385 - acc: 0.8021\n",
      "Test accuracy score: [0.14339485764503479, 0.96875]\n",
      "128/128 [==============================] - 4s - loss: 0.1465 - acc: 0.8125     \n",
      "Epoch 4/20\n",
      " 96/128 [=====================>........] - ETA: 0s - loss: 0.1523 - acc: 0.8333\n",
      "Test accuracy score: [0.13835629820823669, 1.0]\n",
      "128/128 [==============================] - 5s - loss: 0.1520 - acc: 0.7969     \n",
      "Epoch 5/20\n",
      " 96/128 [=====================>........] - ETA: 0s - loss: 0.1492 - acc: 0.7917\n",
      "Test accuracy score: [0.16893112659454346, 0.90625]\n",
      "128/128 [==============================] - 4s - loss: 0.1472 - acc: 0.8125     \n",
      "Epoch 6/20\n",
      " 96/128 [=====================>........] - ETA: 0s - loss: 0.1253 - acc: 0.8333\n",
      "Test accuracy score: [0.12400521337985992, 0.90625]\n",
      "128/128 [==============================] - 4s - loss: 0.1285 - acc: 0.8438     \n",
      "Epoch 7/20\n",
      " 96/128 [=====================>........] - ETA: 0s - loss: 0.1394 - acc: 0.8229\n",
      "Test accuracy score: [0.13510096073150635, 0.96875]\n",
      "128/128 [==============================] - 4s - loss: 0.1402 - acc: 0.8516     \n",
      "Epoch 8/20\n",
      " 96/128 [=====================>........] - ETA: 0s - loss: 0.1214 - acc: 0.8021\n",
      "Test accuracy score: [0.15996062755584717, 0.96875]\n",
      "128/128 [==============================] - 5s - loss: 0.1281 - acc: 0.8125     \n",
      "Epoch 9/20\n",
      " 96/128 [=====================>........] - ETA: 0s - loss: 0.1418 - acc: 0.8646\n",
      "Test accuracy score: [0.15218178927898407, 0.9375]\n",
      "128/128 [==============================] - 4s - loss: 0.1414 - acc: 0.8828     \n",
      "Epoch 10/20\n",
      " 96/128 [=====================>........] - ETA: 0s - loss: 0.1384 - acc: 0.8438\n",
      "Test accuracy score: [0.14576402306556702, 1.0]\n",
      "128/128 [==============================] - 4s - loss: 0.1381 - acc: 0.8438     \n",
      "Epoch 11/20\n",
      " 96/128 [=====================>........] - ETA: 0s - loss: 0.1450 - acc: 0.8854\n",
      "Test accuracy score: [0.14217394590377808, 0.9375]\n",
      "128/128 [==============================] - 4s - loss: 0.1442 - acc: 0.8672     \n",
      "Epoch 12/20\n",
      " 96/128 [=====================>........] - ETA: 0s - loss: 0.1417 - acc: 0.8854\n",
      "Test accuracy score: [0.1371476948261261, 0.9375]\n",
      "128/128 [==============================] - 5s - loss: 0.1355 - acc: 0.8672     \n",
      "Epoch 13/20\n",
      " 96/128 [=====================>........] - ETA: 0s - loss: 0.1401 - acc: 0.8646\n",
      "Test accuracy score: [0.14150938391685486, 0.46875]\n",
      "128/128 [==============================] - 4s - loss: 0.1403 - acc: 0.8828     \n",
      "Epoch 14/20\n",
      "127/128 [============================>.] - ETA: 0s - loss: 0.1305 - acc: 0.9055\n",
      "Test accuracy score: [0.14520591497421265, 0.84375]\n",
      "159/128 [=====================================] - 5s - loss: 0.1325 - acc: 0.8994\n",
      "Epoch 15/20\n",
      " 96/128 [=====================>........] - ETA: 0s - loss: 0.1477 - acc: 0.9062\n",
      "Test accuracy score: [0.13911180198192596, 1.0]\n",
      "128/128 [==============================] - 4s - loss: 0.1423 - acc: 0.8672     \n",
      "Epoch 16/20\n",
      " 96/128 [=====================>........] - ETA: 0s - loss: 0.1396 - acc: 0.8854\n",
      "Test accuracy score: [0.16154971718788147, 1.0]\n",
      "128/128 [==============================] - 5s - loss: 0.1398 - acc: 0.8672     \n",
      "Epoch 17/20\n",
      " 96/128 [=====================>........] - ETA: 0s - loss: 0.1491 - acc: 0.8750\n",
      "Test accuracy score: [0.14931482076644897, 0.875]\n",
      "128/128 [==============================] - 4s - loss: 0.1454 - acc: 0.8906     \n",
      "Epoch 18/20\n",
      " 96/128 [=====================>........] - ETA: 0s - loss: 0.1280 - acc: 0.8854\n",
      "Test accuracy score: [0.12281404435634613, 1.0]\n",
      "128/128 [==============================] - 4s - loss: 0.1331 - acc: 0.8984     \n",
      "Epoch 19/20\n",
      " 96/128 [=====================>........] - ETA: 0s - loss: 0.1478 - acc: 0.8750\n",
      "Test accuracy score: [0.13666918873786926, 0.9375]\n",
      "128/128 [==============================] - 4s - loss: 0.1492 - acc: 0.8594     \n",
      "Epoch 20/20\n",
      " 96/128 [=====================>........] - ETA: 0s - loss: 0.1393 - acc: 0.9375\n",
      "Test accuracy score: [0.1381252110004425, 0.96875]\n",
      "128/128 [==============================] - 5s - loss: 0.1376 - acc: 0.9141     \n",
      "Epoch 1/20\n",
      " 96/128 [=====================>........] - ETA: 1s - loss: 0.1329 - acc: 0.9479\n",
      "Test accuracy score: [0.13862799108028412, 1.0]\n",
      "128/128 [==============================] - 5s - loss: 0.1330 - acc: 0.9375     \n",
      "Epoch 2/20\n",
      " 96/128 [=====================>........] - ETA: 0s - loss: 0.1152 - acc: 0.9583\n",
      "Test accuracy score: [0.12290192395448685, 0.96875]\n",
      "128/128 [==============================] - 4s - loss: 0.1179 - acc: 0.9688     \n",
      "Epoch 3/20\n",
      " 96/128 [=====================>........] - ETA: 0s - loss: 0.1237 - acc: 0.9167\n",
      "Test accuracy score: [0.14638437330722809, 0.96875]\n",
      "128/128 [==============================] - 4s - loss: 0.1295 - acc: 0.9297     \n",
      "Epoch 4/20\n",
      " 96/128 [=====================>........] - ETA: 0s - loss: 0.1365 - acc: 0.9271\n",
      "Test accuracy score: [0.14423853158950806, 1.0]\n",
      "128/128 [==============================] - 5s - loss: 0.1413 - acc: 0.9375     \n",
      "Epoch 5/20\n",
      "127/128 [============================>.] - ETA: 0s - loss: 0.1341 - acc: 0.9370\n",
      "Test accuracy score: [0.14977134764194489, 0.9375]\n",
      "159/128 [=====================================] - 5s - loss: 0.1340 - acc: 0.9371\n",
      "Epoch 6/20\n",
      " 96/128 [=====================>........] - ETA: 0s - loss: 0.1185 - acc: 0.9271\n",
      "Test accuracy score: [0.1307571679353714, 0.9375]\n",
      "128/128 [==============================] - 4s - loss: 0.1235 - acc: 0.9453     \n",
      "Epoch 7/20\n",
      " 96/128 [=====================>........] - ETA: 0s - loss: 0.1249 - acc: 0.9271\n",
      "Test accuracy score: [0.14463105797767639, 0.90625]\n",
      "128/128 [==============================] - 4s - loss: 0.1322 - acc: 0.9375     \n",
      "Epoch 8/20\n",
      " 96/128 [=====================>........] - ETA: 0s - loss: 0.1223 - acc: 0.9583\n",
      "Test accuracy score: [0.14843463897705078, 1.0]\n",
      "128/128 [==============================] - 5s - loss: 0.1314 - acc: 0.9297     \n",
      "Epoch 9/20\n",
      " 96/128 [=====================>........] - ETA: 0s - loss: 0.1197 - acc: 0.9792\n",
      "Test accuracy score: [0.15090000629425049, 1.0]\n",
      "128/128 [==============================] - 4s - loss: 0.1225 - acc: 0.9844     \n",
      "Epoch 10/20\n",
      " 96/128 [=====================>........] - ETA: 0s - loss: 0.1380 - acc: 0.9583\n",
      "Test accuracy score: [0.1417192667722702, 1.0]\n",
      "128/128 [==============================] - 4s - loss: 0.1381 - acc: 0.9453     \n",
      "Epoch 11/20\n",
      " 96/128 [=====================>........] - ETA: 0s - loss: 0.1237 - acc: 0.9688\n",
      "Test accuracy score: [0.13553421199321747, 0.8125]\n",
      "128/128 [==============================] - 4s - loss: 0.1318 - acc: 0.9766     \n",
      "Epoch 12/20\n",
      " 96/128 [=====================>........] - ETA: 0s - loss: 0.1438 - acc: 0.9375\n",
      "Test accuracy score: [0.15361255407333374, 1.0]\n",
      "128/128 [==============================] - 5s - loss: 0.1435 - acc: 0.9219     \n",
      "Epoch 13/20\n",
      " 96/128 [=====================>........] - ETA: 0s - loss: 0.1312 - acc: 0.9896\n",
      "Test accuracy score: [0.12803646922111511, 0.90625]\n",
      "128/128 [==============================] - 4s - loss: 0.1342 - acc: 0.9375     \n",
      "Epoch 14/20\n",
      " 96/128 [=====================>........] - ETA: 0s - loss: 0.1379 - acc: 0.9479\n",
      "Test accuracy score: [0.12665924429893494, 0.9375]\n",
      "128/128 [==============================] - 4s - loss: 0.1411 - acc: 0.9531     \n",
      "Epoch 15/20\n",
      " 96/128 [=====================>........] - ETA: 0s - loss: 0.1307 - acc: 0.9896\n",
      "Test accuracy score: [0.1380113810300827, 1.0]\n",
      "128/128 [==============================] - 4s - loss: 0.1305 - acc: 0.9922     \n",
      "Epoch 16/20\n",
      " 96/128 [=====================>........] - ETA: 0s - loss: 0.1456 - acc: 0.9479\n",
      "Test accuracy score: [0.14698803424835205, 1.0]\n",
      "128/128 [==============================] - 5s - loss: 0.1397 - acc: 0.9453     \n",
      "Epoch 17/20\n",
      " 96/128 [=====================>........] - ETA: 0s - loss: 0.1326 - acc: 1.0000\n",
      "Test accuracy score: [0.14222408831119537, 1.0]\n",
      "128/128 [==============================] - 4s - loss: 0.1322 - acc: 0.9922     \n",
      "Epoch 18/20\n",
      " 96/128 [=====================>........] - ETA: 0s - loss: 0.1230 - acc: 1.0000\n",
      "Test accuracy score: [0.13223601877689362, 0.90625]\n",
      "128/128 [==============================] - 4s - loss: 0.1247 - acc: 1.0000     \n",
      "Epoch 19/20\n",
      "127/128 [============================>.] - ETA: 0s - loss: 0.1341 - acc: 0.9843\n",
      "Test accuracy score: [0.14555993676185608, 1.0]\n",
      "159/128 [=====================================] - 5s - loss: 0.1370 - acc: 0.9874\n",
      "Epoch 20/20\n",
      " 96/128 [=====================>........] - ETA: 0s - loss: 0.1227 - acc: 0.9896\n",
      "Test accuracy score: [0.13272728025913239, 1.0]\n",
      "128/128 [==============================] - 5s - loss: 0.1209 - acc: 0.9922     \n",
      "Epoch 1/20\n",
      " 96/128 [=====================>........] - ETA: 1s - loss: 0.1394 - acc: 0.9896\n",
      "Test accuracy score: [0.12042401731014252, 0.78125]\n",
      "128/128 [==============================] - 5s - loss: 0.1381 - acc: 0.9922     \n",
      "Epoch 2/20\n",
      " 96/128 [=====================>........] - ETA: 0s - loss: 0.1409 - acc: 0.9479\n",
      "Test accuracy score: [0.12779071927070618, 1.0]\n",
      "128/128 [==============================] - 4s - loss: 0.1321 - acc: 0.9609     \n",
      "Epoch 3/20\n",
      " 96/128 [=====================>........] - ETA: 0s - loss: 0.1280 - acc: 1.0000\n",
      "Test accuracy score: [0.1489226222038269, 1.0]\n",
      "128/128 [==============================] - 4s - loss: 0.1277 - acc: 0.9922     \n",
      "Epoch 4/20\n",
      " 96/128 [=====================>........] - ETA: 0s - loss: 0.1405 - acc: 0.9167\n",
      "Test accuracy score: [0.15359419584274292, 1.0]\n",
      "128/128 [==============================] - 5s - loss: 0.1382 - acc: 0.9297     \n",
      "Epoch 5/20\n",
      " 96/128 [=====================>........] - ETA: 0s - loss: 0.1364 - acc: 0.9896\n",
      "Test accuracy score: [0.13595503568649292, 1.0]\n",
      "128/128 [==============================] - 4s - loss: 0.1435 - acc: 0.9922     \n",
      "Epoch 6/20\n",
      " 96/128 [=====================>........] - ETA: 0s - loss: 0.1241 - acc: 0.9896\n",
      "Test accuracy score: [0.13260552287101746, 0.875]\n",
      "128/128 [==============================] - 4s - loss: 0.1243 - acc: 0.9922     \n",
      "Epoch 7/20\n",
      " 96/128 [=====================>........] - ETA: 0s - loss: 0.1325 - acc: 0.9896\n",
      "Test accuracy score: [0.13478164374828339, 1.0]\n",
      "128/128 [==============================] - 4s - loss: 0.1263 - acc: 0.9922     \n",
      "Epoch 8/20\n",
      " 96/128 [=====================>........] - ETA: 0s - loss: 0.1360 - acc: 0.9375\n",
      "Test accuracy score: [0.1436043381690979, 1.0]\n",
      "128/128 [==============================] - 5s - loss: 0.1335 - acc: 0.9531     \n",
      "Epoch 9/20\n",
      " 96/128 [=====================>........] - ETA: 0s - loss: 0.1260 - acc: 0.9896\n",
      "Test accuracy score: [0.16036501526832581, 1.0]\n",
      "128/128 [==============================] - 4s - loss: 0.1263 - acc: 0.9922     \n",
      "Epoch 10/20\n",
      "127/128 [============================>.] - ETA: 0s - loss: 0.1273 - acc: 1.0000\n",
      "Test accuracy score: [0.13850979506969452, 1.0]\n",
      "159/128 [=====================================] - 5s - loss: 0.1283 - acc: 1.0000\n",
      "Epoch 11/20\n",
      " 96/128 [=====================>........] - ETA: 0s - loss: 0.1367 - acc: 0.9896\n",
      "Test accuracy score: [0.12828314304351807, 1.0]\n",
      "128/128 [==============================] - 4s - loss: 0.1295 - acc: 0.9922     \n",
      "Epoch 12/20\n",
      " 96/128 [=====================>........] - ETA: 0s - loss: 0.1223 - acc: 0.9583\n",
      "Test accuracy score: [0.13279834389686584, 1.0]\n",
      "128/128 [==============================] - 5s - loss: 0.1256 - acc: 0.9688     \n",
      "Epoch 13/20\n",
      " 96/128 [=====================>........] - ETA: 0s - loss: 0.1333 - acc: 1.0000\n",
      "Test accuracy score: [0.13832804560661316, 1.0]\n",
      "128/128 [==============================] - 4s - loss: 0.1350 - acc: 1.0000     \n",
      "Epoch 14/20\n",
      " 96/128 [=====================>........] - ETA: 0s - loss: 0.1319 - acc: 0.9896\n",
      "Test accuracy score: [0.12417984008789062, 1.0]\n",
      "128/128 [==============================] - 4s - loss: 0.1252 - acc: 0.9922     \n",
      "Epoch 15/20\n",
      " 96/128 [=====================>........] - ETA: 0s - loss: 0.1424 - acc: 0.9896\n",
      "Test accuracy score: [0.14753612875938416, 1.0]\n",
      "128/128 [==============================] - 4s - loss: 0.1411 - acc: 0.9922     \n",
      "Epoch 16/20\n",
      " 96/128 [=====================>........] - ETA: 0s - loss: 0.1250 - acc: 0.9792\n",
      "Test accuracy score: [0.14380988478660583, 1.0]\n",
      "128/128 [==============================] - 5s - loss: 0.1333 - acc: 0.9531     \n",
      "Epoch 17/20\n",
      " 96/128 [=====================>........] - ETA: 0s - loss: 0.1341 - acc: 0.9792\n",
      "Test accuracy score: [0.11700209230184555, 0.96875]\n",
      "128/128 [==============================] - 4s - loss: 0.1319 - acc: 0.9844     \n",
      "Epoch 18/20\n",
      " 96/128 [=====================>........] - ETA: 0s - loss: 0.1158 - acc: 0.9792\n",
      "Test accuracy score: [0.15267612040042877, 1.0]\n",
      "128/128 [==============================] - 4s - loss: 0.1242 - acc: 0.9844     \n",
      "Epoch 19/20\n",
      " 96/128 [=====================>........] - ETA: 0s - loss: 0.1281 - acc: 1.0000\n",
      "Test accuracy score: [0.1413617879152298, 1.0]\n",
      "128/128 [==============================] - 4s - loss: 0.1280 - acc: 1.0000     \n",
      "Epoch 20/20\n",
      " 96/128 [=====================>........] - ETA: 0s - loss: 0.1349 - acc: 1.0000\n",
      "Test accuracy score: [0.14906749129295349, 1.0]\n",
      "128/128 [==============================] - 5s - loss: 0.1351 - acc: 1.0000     \n",
      "Epoch 1/20\n"
     ]
    },
    {
     "ename": "KeyboardInterrupt",
     "evalue": "",
     "output_type": "error",
     "traceback": [
      "\u001b[0;31m---------------------------------------------------------------------------\u001b[0m",
      "\u001b[0;31mKeyboardInterrupt\u001b[0m                         Traceback (most recent call last)",
      "\u001b[0;32m<ipython-input-46-dcfda93bbe46>\u001b[0m in \u001b[0;36m<module>\u001b[0;34m()\u001b[0m\n\u001b[1;32m      1\u001b[0m \u001b[0;32mfor\u001b[0m \u001b[0mi\u001b[0m \u001b[0;32min\u001b[0m \u001b[0mrange\u001b[0m\u001b[0;34m(\u001b[0m\u001b[0;36m2\u001b[0m\u001b[0;34m,\u001b[0m \u001b[0;36m20\u001b[0m\u001b[0;34m)\u001b[0m\u001b[0;34m:\u001b[0m\u001b[0;34m\u001b[0m\u001b[0m\n\u001b[1;32m      2\u001b[0m     \u001b[0mtest_model\u001b[0m \u001b[0;34m=\u001b[0m \u001b[0mTestModel\u001b[0m\u001b[0;34m(\u001b[0m\u001b[0mtest_generator\u001b[0m\u001b[0;34m)\u001b[0m\u001b[0;34m\u001b[0m\u001b[0m\n\u001b[0;32m----> 3\u001b[0;31m     \u001b[0mhistory\u001b[0m \u001b[0;34m=\u001b[0m \u001b[0mmodel\u001b[0m\u001b[0;34m.\u001b[0m\u001b[0mfit_generator\u001b[0m\u001b[0;34m(\u001b[0m\u001b[0mtrain_generator\u001b[0m\u001b[0;34m,\u001b[0m \u001b[0mnb_epoch\u001b[0m\u001b[0;34m=\u001b[0m\u001b[0mNB_EPOCH\u001b[0m\u001b[0;34m,\u001b[0m \u001b[0msamples_per_epoch\u001b[0m\u001b[0;34m=\u001b[0m\u001b[0mBATCH_SIZE\u001b[0m\u001b[0;34m,\u001b[0m \u001b[0mcallbacks\u001b[0m\u001b[0;34m=\u001b[0m\u001b[0;34m[\u001b[0m\u001b[0mtest_model\u001b[0m\u001b[0;34m]\u001b[0m\u001b[0;34m)\u001b[0m\u001b[0;34m\u001b[0m\u001b[0m\n\u001b[0m\u001b[1;32m      4\u001b[0m     \u001b[0mdf_log\u001b[0m \u001b[0;34m=\u001b[0m \u001b[0mpd\u001b[0m\u001b[0;34m.\u001b[0m\u001b[0mDataFrame\u001b[0m\u001b[0;34m(\u001b[0m\u001b[0mhistory\u001b[0m\u001b[0;34m.\u001b[0m\u001b[0mhistory\u001b[0m\u001b[0;34m)\u001b[0m\u001b[0;34m\u001b[0m\u001b[0m\n\u001b[1;32m      5\u001b[0m     \u001b[0mdf_log\u001b[0m\u001b[0;34m[\u001b[0m\u001b[0;34m'test_diff'\u001b[0m\u001b[0;34m]\u001b[0m \u001b[0;34m=\u001b[0m \u001b[0mnp\u001b[0m\u001b[0;34m.\u001b[0m\u001b[0marray\u001b[0m\u001b[0;34m(\u001b[0m\u001b[0mtest_model\u001b[0m\u001b[0;34m.\u001b[0m\u001b[0mtest_scores\u001b[0m\u001b[0;34m)\u001b[0m\u001b[0;34m[\u001b[0m\u001b[0;34m:\u001b[0m\u001b[0;34m,\u001b[0m \u001b[0;36m0\u001b[0m\u001b[0;34m]\u001b[0m\u001b[0;34m\u001b[0m\u001b[0m\n",
      "\u001b[0;32m/home/ubuntu/anaconda3/lib/python3.5/site-packages/keras/engine/training.py\u001b[0m in \u001b[0;36mfit_generator\u001b[0;34m(self, generator, samples_per_epoch, nb_epoch, verbose, callbacks, validation_data, nb_val_samples, class_weight, max_q_size, nb_worker, pickle_safe, initial_epoch)\u001b[0m\n\u001b[1;32m   1555\u001b[0m                     outs = self.train_on_batch(x, y,\n\u001b[1;32m   1556\u001b[0m                                                \u001b[0msample_weight\u001b[0m\u001b[0;34m=\u001b[0m\u001b[0msample_weight\u001b[0m\u001b[0;34m,\u001b[0m\u001b[0;34m\u001b[0m\u001b[0m\n\u001b[0;32m-> 1557\u001b[0;31m                                                class_weight=class_weight)\n\u001b[0m\u001b[1;32m   1558\u001b[0m \u001b[0;34m\u001b[0m\u001b[0m\n\u001b[1;32m   1559\u001b[0m                     \u001b[0;32mif\u001b[0m \u001b[0;32mnot\u001b[0m \u001b[0misinstance\u001b[0m\u001b[0;34m(\u001b[0m\u001b[0mouts\u001b[0m\u001b[0;34m,\u001b[0m \u001b[0mlist\u001b[0m\u001b[0;34m)\u001b[0m\u001b[0;34m:\u001b[0m\u001b[0;34m\u001b[0m\u001b[0m\n",
      "\u001b[0;32m/home/ubuntu/anaconda3/lib/python3.5/site-packages/keras/engine/training.py\u001b[0m in \u001b[0;36mtrain_on_batch\u001b[0;34m(self, x, y, sample_weight, class_weight)\u001b[0m\n\u001b[1;32m   1318\u001b[0m             \u001b[0mins\u001b[0m \u001b[0;34m=\u001b[0m \u001b[0mx\u001b[0m \u001b[0;34m+\u001b[0m \u001b[0my\u001b[0m \u001b[0;34m+\u001b[0m \u001b[0msample_weights\u001b[0m\u001b[0;34m\u001b[0m\u001b[0m\n\u001b[1;32m   1319\u001b[0m         \u001b[0mself\u001b[0m\u001b[0;34m.\u001b[0m\u001b[0m_make_train_function\u001b[0m\u001b[0;34m(\u001b[0m\u001b[0;34m)\u001b[0m\u001b[0;34m\u001b[0m\u001b[0m\n\u001b[0;32m-> 1320\u001b[0;31m         \u001b[0moutputs\u001b[0m \u001b[0;34m=\u001b[0m \u001b[0mself\u001b[0m\u001b[0;34m.\u001b[0m\u001b[0mtrain_function\u001b[0m\u001b[0;34m(\u001b[0m\u001b[0mins\u001b[0m\u001b[0;34m)\u001b[0m\u001b[0;34m\u001b[0m\u001b[0m\n\u001b[0m\u001b[1;32m   1321\u001b[0m         \u001b[0;32mif\u001b[0m \u001b[0mlen\u001b[0m\u001b[0;34m(\u001b[0m\u001b[0moutputs\u001b[0m\u001b[0;34m)\u001b[0m \u001b[0;34m==\u001b[0m \u001b[0;36m1\u001b[0m\u001b[0;34m:\u001b[0m\u001b[0;34m\u001b[0m\u001b[0m\n\u001b[1;32m   1322\u001b[0m             \u001b[0;32mreturn\u001b[0m \u001b[0moutputs\u001b[0m\u001b[0;34m[\u001b[0m\u001b[0;36m0\u001b[0m\u001b[0;34m]\u001b[0m\u001b[0;34m\u001b[0m\u001b[0m\n",
      "\u001b[0;32m/home/ubuntu/anaconda3/lib/python3.5/site-packages/keras/backend/theano_backend.py\u001b[0m in \u001b[0;36m__call__\u001b[0;34m(self, inputs)\u001b[0m\n\u001b[1;32m    957\u001b[0m     \u001b[0;32mdef\u001b[0m \u001b[0m__call__\u001b[0m\u001b[0;34m(\u001b[0m\u001b[0mself\u001b[0m\u001b[0;34m,\u001b[0m \u001b[0minputs\u001b[0m\u001b[0;34m)\u001b[0m\u001b[0;34m:\u001b[0m\u001b[0;34m\u001b[0m\u001b[0m\n\u001b[1;32m    958\u001b[0m         \u001b[0;32massert\u001b[0m \u001b[0misinstance\u001b[0m\u001b[0;34m(\u001b[0m\u001b[0minputs\u001b[0m\u001b[0;34m,\u001b[0m \u001b[0;34m(\u001b[0m\u001b[0mlist\u001b[0m\u001b[0;34m,\u001b[0m \u001b[0mtuple\u001b[0m\u001b[0;34m)\u001b[0m\u001b[0;34m)\u001b[0m\u001b[0;34m\u001b[0m\u001b[0m\n\u001b[0;32m--> 959\u001b[0;31m         \u001b[0;32mreturn\u001b[0m \u001b[0mself\u001b[0m\u001b[0;34m.\u001b[0m\u001b[0mfunction\u001b[0m\u001b[0;34m(\u001b[0m\u001b[0;34m*\u001b[0m\u001b[0minputs\u001b[0m\u001b[0;34m)\u001b[0m\u001b[0;34m\u001b[0m\u001b[0m\n\u001b[0m\u001b[1;32m    960\u001b[0m \u001b[0;34m\u001b[0m\u001b[0m\n\u001b[1;32m    961\u001b[0m \u001b[0;34m\u001b[0m\u001b[0m\n",
      "\u001b[0;32m/home/ubuntu/anaconda3/lib/python3.5/site-packages/theano/compile/function_module.py\u001b[0m in \u001b[0;36m__call__\u001b[0;34m(self, *args, **kwargs)\u001b[0m\n\u001b[1;32m    857\u001b[0m         \u001b[0mt0_fn\u001b[0m \u001b[0;34m=\u001b[0m \u001b[0mtime\u001b[0m\u001b[0;34m.\u001b[0m\u001b[0mtime\u001b[0m\u001b[0;34m(\u001b[0m\u001b[0;34m)\u001b[0m\u001b[0;34m\u001b[0m\u001b[0m\n\u001b[1;32m    858\u001b[0m         \u001b[0;32mtry\u001b[0m\u001b[0;34m:\u001b[0m\u001b[0;34m\u001b[0m\u001b[0m\n\u001b[0;32m--> 859\u001b[0;31m             \u001b[0moutputs\u001b[0m \u001b[0;34m=\u001b[0m \u001b[0mself\u001b[0m\u001b[0;34m.\u001b[0m\u001b[0mfn\u001b[0m\u001b[0;34m(\u001b[0m\u001b[0;34m)\u001b[0m\u001b[0;34m\u001b[0m\u001b[0m\n\u001b[0m\u001b[1;32m    860\u001b[0m         \u001b[0;32mexcept\u001b[0m \u001b[0mException\u001b[0m\u001b[0;34m:\u001b[0m\u001b[0;34m\u001b[0m\u001b[0m\n\u001b[1;32m    861\u001b[0m             \u001b[0;32mif\u001b[0m \u001b[0mhasattr\u001b[0m\u001b[0;34m(\u001b[0m\u001b[0mself\u001b[0m\u001b[0;34m.\u001b[0m\u001b[0mfn\u001b[0m\u001b[0;34m,\u001b[0m \u001b[0;34m'position_of_error'\u001b[0m\u001b[0;34m)\u001b[0m\u001b[0;34m:\u001b[0m\u001b[0;34m\u001b[0m\u001b[0m\n",
      "\u001b[0;32m/home/ubuntu/anaconda3/lib/python3.5/site-packages/theano/ifelse.py\u001b[0m in \u001b[0;36mthunk\u001b[0;34m()\u001b[0m\n\u001b[1;32m    235\u001b[0m         \u001b[0moutputs\u001b[0m \u001b[0;34m=\u001b[0m \u001b[0mnode\u001b[0m\u001b[0;34m.\u001b[0m\u001b[0moutputs\u001b[0m\u001b[0;34m\u001b[0m\u001b[0m\n\u001b[1;32m    236\u001b[0m \u001b[0;34m\u001b[0m\u001b[0m\n\u001b[0;32m--> 237\u001b[0;31m         \u001b[0;32mdef\u001b[0m \u001b[0mthunk\u001b[0m\u001b[0;34m(\u001b[0m\u001b[0;34m)\u001b[0m\u001b[0;34m:\u001b[0m\u001b[0;34m\u001b[0m\u001b[0m\n\u001b[0m\u001b[1;32m    238\u001b[0m             \u001b[0;32mif\u001b[0m \u001b[0;32mnot\u001b[0m \u001b[0mcompute_map\u001b[0m\u001b[0;34m[\u001b[0m\u001b[0mcond\u001b[0m\u001b[0;34m]\u001b[0m\u001b[0;34m[\u001b[0m\u001b[0;36m0\u001b[0m\u001b[0;34m]\u001b[0m\u001b[0;34m:\u001b[0m\u001b[0;34m\u001b[0m\u001b[0m\n\u001b[1;32m    239\u001b[0m                 \u001b[0;32mreturn\u001b[0m \u001b[0;34m[\u001b[0m\u001b[0;36m0\u001b[0m\u001b[0;34m]\u001b[0m\u001b[0;34m\u001b[0m\u001b[0m\n",
      "\u001b[0;31mKeyboardInterrupt\u001b[0m: "
     ]
    }
   ],
   "source": [
    "for i in range(2, 5):\n",
    "    test_model = TestModel(test_generator)\n",
    "    history = model.fit_generator(train_generator, nb_epoch=NB_EPOCH, samples_per_epoch=BATCH_SIZE, callbacks=[test_model])\n",
    "    df_log = pd.DataFrame(history.history)\n",
    "    df_log['test_diff'] = np.array(test_model.test_scores)[:, 0]\n",
    "    df_log['test_acc'] = np.array(test_model.test_scores)[:, 1]\n",
    "    df_log.to_csv('logs/log_{}.csv'.format(i))"
   ]
  },
  {
   "cell_type": "code",
   "execution_count": 48,
   "metadata": {
    "collapsed": true
   },
   "outputs": [],
   "source": [
    "cnn.save(model, 'color', 'states/c_model')"
   ]
  },
  {
   "cell_type": "code",
   "execution_count": null,
   "metadata": {
    "collapsed": true
   },
   "outputs": [],
   "source": [
    "from IPython.core.display import display, HTML\n",
    "def rgb_to_hex(rgb):\n",
    "    return '#%02x%02x%02x' % rgb\n",
    "def display_color(rgb):\n",
    "    rgb = [int(color) for color in rgb]\n",
    "    print (rgb)\n",
    "    hex_code = rgb_to_hex(tuple(rgb))\n",
    "    display(HTML('<div style=\"width:140px; height:140px; background-color: {};\"></div>'.format(hex_code)))"
   ]
  }
 ],
 "metadata": {
  "anaconda-cloud": {},
  "kernelspec": {
   "display_name": "Python [conda root]",
   "language": "python",
   "name": "conda-root-py"
  },
  "language_info": {
   "codemirror_mode": {
    "name": "ipython",
    "version": 3
   },
   "file_extension": ".py",
   "mimetype": "text/x-python",
   "name": "python",
   "nbconvert_exporter": "python",
   "pygments_lexer": "ipython3",
   "version": "3.5.2"
  }
 },
 "nbformat": 4,
 "nbformat_minor": 1
}
